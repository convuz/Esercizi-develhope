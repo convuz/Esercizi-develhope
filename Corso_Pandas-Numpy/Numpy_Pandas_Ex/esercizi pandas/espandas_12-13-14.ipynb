{
 "cells": [
  {
   "cell_type": "code",
   "execution_count": 2,
   "metadata": {},
   "outputs": [],
   "source": [
    "import pandas as pd\n",
    "import numpy as np\n",
    "import seaborn as sns"
   ]
  },
  {
   "cell_type": "code",
   "execution_count": 3,
   "metadata": {},
   "outputs": [],
   "source": [
    "# Create a dataframe of ten rows, four columns with random values. \n",
    "df = pd.DataFrame(np.random.randn(10, 4), columns=[\"A\",\"B\",\"C\",\"D\"])\n",
    "df2=df.copy(deep=True)"
   ]
  },
  {
   "cell_type": "code",
   "execution_count": 4,
   "metadata": {},
   "outputs": [
    {
     "data": {
      "text/html": [
       "<style type=\"text/css\">\n",
       "#T_3565c_row0_col3, #T_3565c_row2_col3, #T_3565c_row4_col2, #T_3565c_row6_col1, #T_3565c_row9_col0 {\n",
       "  background-color: red;\n",
       "}\n",
       "</style>\n",
       "<table id=\"T_3565c\">\n",
       "  <thead>\n",
       "    <tr>\n",
       "      <th class=\"blank level0\" >&nbsp;</th>\n",
       "      <th id=\"T_3565c_level0_col0\" class=\"col_heading level0 col0\" >A</th>\n",
       "      <th id=\"T_3565c_level0_col1\" class=\"col_heading level0 col1\" >B</th>\n",
       "      <th id=\"T_3565c_level0_col2\" class=\"col_heading level0 col2\" >C</th>\n",
       "      <th id=\"T_3565c_level0_col3\" class=\"col_heading level0 col3\" >D</th>\n",
       "    </tr>\n",
       "  </thead>\n",
       "  <tbody>\n",
       "    <tr>\n",
       "      <th id=\"T_3565c_level0_row0\" class=\"row_heading level0 row0\" >0</th>\n",
       "      <td id=\"T_3565c_row0_col0\" class=\"data row0 col0\" >-0.365428</td>\n",
       "      <td id=\"T_3565c_row0_col1\" class=\"data row0 col1\" >-0.952582</td>\n",
       "      <td id=\"T_3565c_row0_col2\" class=\"data row0 col2\" >1.118676</td>\n",
       "      <td id=\"T_3565c_row0_col3\" class=\"data row0 col3\" >nan</td>\n",
       "    </tr>\n",
       "    <tr>\n",
       "      <th id=\"T_3565c_level0_row1\" class=\"row_heading level0 row1\" >1</th>\n",
       "      <td id=\"T_3565c_row1_col0\" class=\"data row1 col0\" >1.201564</td>\n",
       "      <td id=\"T_3565c_row1_col1\" class=\"data row1 col1\" >0.505506</td>\n",
       "      <td id=\"T_3565c_row1_col2\" class=\"data row1 col2\" >-0.034242</td>\n",
       "      <td id=\"T_3565c_row1_col3\" class=\"data row1 col3\" >-0.656421</td>\n",
       "    </tr>\n",
       "    <tr>\n",
       "      <th id=\"T_3565c_level0_row2\" class=\"row_heading level0 row2\" >2</th>\n",
       "      <td id=\"T_3565c_row2_col0\" class=\"data row2 col0\" >1.841050</td>\n",
       "      <td id=\"T_3565c_row2_col1\" class=\"data row2 col1\" >1.612431</td>\n",
       "      <td id=\"T_3565c_row2_col2\" class=\"data row2 col2\" >1.184078</td>\n",
       "      <td id=\"T_3565c_row2_col3\" class=\"data row2 col3\" >nan</td>\n",
       "    </tr>\n",
       "    <tr>\n",
       "      <th id=\"T_3565c_level0_row3\" class=\"row_heading level0 row3\" >3</th>\n",
       "      <td id=\"T_3565c_row3_col0\" class=\"data row3 col0\" >0.389740</td>\n",
       "      <td id=\"T_3565c_row3_col1\" class=\"data row3 col1\" >0.264032</td>\n",
       "      <td id=\"T_3565c_row3_col2\" class=\"data row3 col2\" >-0.850357</td>\n",
       "      <td id=\"T_3565c_row3_col3\" class=\"data row3 col3\" >0.256959</td>\n",
       "    </tr>\n",
       "    <tr>\n",
       "      <th id=\"T_3565c_level0_row4\" class=\"row_heading level0 row4\" >4</th>\n",
       "      <td id=\"T_3565c_row4_col0\" class=\"data row4 col0\" >-0.348025</td>\n",
       "      <td id=\"T_3565c_row4_col1\" class=\"data row4 col1\" >1.758603</td>\n",
       "      <td id=\"T_3565c_row4_col2\" class=\"data row4 col2\" >nan</td>\n",
       "      <td id=\"T_3565c_row4_col3\" class=\"data row4 col3\" >-1.131239</td>\n",
       "    </tr>\n",
       "    <tr>\n",
       "      <th id=\"T_3565c_level0_row5\" class=\"row_heading level0 row5\" >5</th>\n",
       "      <td id=\"T_3565c_row5_col0\" class=\"data row5 col0\" >-0.591345</td>\n",
       "      <td id=\"T_3565c_row5_col1\" class=\"data row5 col1\" >-1.424825</td>\n",
       "      <td id=\"T_3565c_row5_col2\" class=\"data row5 col2\" >-0.625687</td>\n",
       "      <td id=\"T_3565c_row5_col3\" class=\"data row5 col3\" >0.962708</td>\n",
       "    </tr>\n",
       "    <tr>\n",
       "      <th id=\"T_3565c_level0_row6\" class=\"row_heading level0 row6\" >6</th>\n",
       "      <td id=\"T_3565c_row6_col0\" class=\"data row6 col0\" >0.315904</td>\n",
       "      <td id=\"T_3565c_row6_col1\" class=\"data row6 col1\" >nan</td>\n",
       "      <td id=\"T_3565c_row6_col2\" class=\"data row6 col2\" >-1.216326</td>\n",
       "      <td id=\"T_3565c_row6_col3\" class=\"data row6 col3\" >-1.001207</td>\n",
       "    </tr>\n",
       "    <tr>\n",
       "      <th id=\"T_3565c_level0_row7\" class=\"row_heading level0 row7\" >7</th>\n",
       "      <td id=\"T_3565c_row7_col0\" class=\"data row7 col0\" >2.117034</td>\n",
       "      <td id=\"T_3565c_row7_col1\" class=\"data row7 col1\" >-0.874235</td>\n",
       "      <td id=\"T_3565c_row7_col2\" class=\"data row7 col2\" >-0.960742</td>\n",
       "      <td id=\"T_3565c_row7_col3\" class=\"data row7 col3\" >0.997393</td>\n",
       "    </tr>\n",
       "    <tr>\n",
       "      <th id=\"T_3565c_level0_row8\" class=\"row_heading level0 row8\" >8</th>\n",
       "      <td id=\"T_3565c_row8_col0\" class=\"data row8 col0\" >1.382518</td>\n",
       "      <td id=\"T_3565c_row8_col1\" class=\"data row8 col1\" >2.617218</td>\n",
       "      <td id=\"T_3565c_row8_col2\" class=\"data row8 col2\" >-0.484142</td>\n",
       "      <td id=\"T_3565c_row8_col3\" class=\"data row8 col3\" >0.666325</td>\n",
       "    </tr>\n",
       "    <tr>\n",
       "      <th id=\"T_3565c_level0_row9\" class=\"row_heading level0 row9\" >9</th>\n",
       "      <td id=\"T_3565c_row9_col0\" class=\"data row9 col0\" >nan</td>\n",
       "      <td id=\"T_3565c_row9_col1\" class=\"data row9 col1\" >-1.722610</td>\n",
       "      <td id=\"T_3565c_row9_col2\" class=\"data row9 col2\" >1.244646</td>\n",
       "      <td id=\"T_3565c_row9_col3\" class=\"data row9 col3\" >0.282023</td>\n",
       "    </tr>\n",
       "  </tbody>\n",
       "</table>\n"
      ],
      "text/plain": [
       "<pandas.io.formats.style.Styler at 0x1e47feea950>"
      ]
     },
     "execution_count": 4,
     "metadata": {},
     "output_type": "execute_result"
    }
   ],
   "source": [
    "# ES12\n",
    "# Convert some values to nan values. Write a Pandas program which will highlight the nan values.\n",
    "df2.iat[0,3]=None\n",
    "df2.iat[6,1]=None\n",
    "df2.iat[2,3]=None\n",
    "df2.iat[4,2]=None\n",
    "df2.iat[9,0]=None\n",
    "df2.style.highlight_null('red')"
   ]
  },
  {
   "cell_type": "code",
   "execution_count": 5,
   "metadata": {},
   "outputs": [
    {
     "data": {
      "text/html": [
       "<style type=\"text/css\">\n",
       "#T_beb6c_row0_col0, #T_beb6c_row0_col3, #T_beb6c_row1_col0, #T_beb6c_row1_col3, #T_beb6c_row2_col0, #T_beb6c_row2_col3, #T_beb6c_row3_col0, #T_beb6c_row3_col3, #T_beb6c_row4_col0, #T_beb6c_row4_col3, #T_beb6c_row5_col0, #T_beb6c_row5_col3, #T_beb6c_row6_col0, #T_beb6c_row6_col3, #T_beb6c_row7_col0, #T_beb6c_row7_col3, #T_beb6c_row8_col0, #T_beb6c_row8_col3, #T_beb6c_row9_col0, #T_beb6c_row9_col3 {\n",
       "  background-color: ;\n",
       "}\n",
       "#T_beb6c_row0_col1, #T_beb6c_row1_col1, #T_beb6c_row2_col1, #T_beb6c_row3_col1, #T_beb6c_row4_col1, #T_beb6c_row5_col1, #T_beb6c_row6_col1, #T_beb6c_row7_col1, #T_beb6c_row8_col1, #T_beb6c_row9_col1 {\n",
       "  background-color: grey;\n",
       "}\n",
       "#T_beb6c_row0_col2, #T_beb6c_row1_col2, #T_beb6c_row2_col2, #T_beb6c_row3_col2, #T_beb6c_row4_col2, #T_beb6c_row5_col2, #T_beb6c_row6_col2, #T_beb6c_row7_col2, #T_beb6c_row8_col2, #T_beb6c_row9_col2 {\n",
       "  background-color: blue;\n",
       "}\n",
       "</style>\n",
       "<table id=\"T_beb6c\">\n",
       "  <thead>\n",
       "    <tr>\n",
       "      <th class=\"blank level0\" >&nbsp;</th>\n",
       "      <th id=\"T_beb6c_level0_col0\" class=\"col_heading level0 col0\" >A</th>\n",
       "      <th id=\"T_beb6c_level0_col1\" class=\"col_heading level0 col1\" >B</th>\n",
       "      <th id=\"T_beb6c_level0_col2\" class=\"col_heading level0 col2\" >C</th>\n",
       "      <th id=\"T_beb6c_level0_col3\" class=\"col_heading level0 col3\" >D</th>\n",
       "    </tr>\n",
       "  </thead>\n",
       "  <tbody>\n",
       "    <tr>\n",
       "      <th id=\"T_beb6c_level0_row0\" class=\"row_heading level0 row0\" >0</th>\n",
       "      <td id=\"T_beb6c_row0_col0\" class=\"data row0 col0\" >-0.365428</td>\n",
       "      <td id=\"T_beb6c_row0_col1\" class=\"data row0 col1\" >-0.952582</td>\n",
       "      <td id=\"T_beb6c_row0_col2\" class=\"data row0 col2\" >1.118676</td>\n",
       "      <td id=\"T_beb6c_row0_col3\" class=\"data row0 col3\" >-0.475851</td>\n",
       "    </tr>\n",
       "    <tr>\n",
       "      <th id=\"T_beb6c_level0_row1\" class=\"row_heading level0 row1\" >1</th>\n",
       "      <td id=\"T_beb6c_row1_col0\" class=\"data row1 col0\" >1.201564</td>\n",
       "      <td id=\"T_beb6c_row1_col1\" class=\"data row1 col1\" >0.505506</td>\n",
       "      <td id=\"T_beb6c_row1_col2\" class=\"data row1 col2\" >-0.034242</td>\n",
       "      <td id=\"T_beb6c_row1_col3\" class=\"data row1 col3\" >-0.656421</td>\n",
       "    </tr>\n",
       "    <tr>\n",
       "      <th id=\"T_beb6c_level0_row2\" class=\"row_heading level0 row2\" >2</th>\n",
       "      <td id=\"T_beb6c_row2_col0\" class=\"data row2 col0\" >1.841050</td>\n",
       "      <td id=\"T_beb6c_row2_col1\" class=\"data row2 col1\" >1.612431</td>\n",
       "      <td id=\"T_beb6c_row2_col2\" class=\"data row2 col2\" >1.184078</td>\n",
       "      <td id=\"T_beb6c_row2_col3\" class=\"data row2 col3\" >0.996490</td>\n",
       "    </tr>\n",
       "    <tr>\n",
       "      <th id=\"T_beb6c_level0_row3\" class=\"row_heading level0 row3\" >3</th>\n",
       "      <td id=\"T_beb6c_row3_col0\" class=\"data row3 col0\" >0.389740</td>\n",
       "      <td id=\"T_beb6c_row3_col1\" class=\"data row3 col1\" >0.264032</td>\n",
       "      <td id=\"T_beb6c_row3_col2\" class=\"data row3 col2\" >-0.850357</td>\n",
       "      <td id=\"T_beb6c_row3_col3\" class=\"data row3 col3\" >0.256959</td>\n",
       "    </tr>\n",
       "    <tr>\n",
       "      <th id=\"T_beb6c_level0_row4\" class=\"row_heading level0 row4\" >4</th>\n",
       "      <td id=\"T_beb6c_row4_col0\" class=\"data row4 col0\" >-0.348025</td>\n",
       "      <td id=\"T_beb6c_row4_col1\" class=\"data row4 col1\" >1.758603</td>\n",
       "      <td id=\"T_beb6c_row4_col2\" class=\"data row4 col2\" >0.023152</td>\n",
       "      <td id=\"T_beb6c_row4_col3\" class=\"data row4 col3\" >-1.131239</td>\n",
       "    </tr>\n",
       "    <tr>\n",
       "      <th id=\"T_beb6c_level0_row5\" class=\"row_heading level0 row5\" >5</th>\n",
       "      <td id=\"T_beb6c_row5_col0\" class=\"data row5 col0\" >-0.591345</td>\n",
       "      <td id=\"T_beb6c_row5_col1\" class=\"data row5 col1\" >-1.424825</td>\n",
       "      <td id=\"T_beb6c_row5_col2\" class=\"data row5 col2\" >-0.625687</td>\n",
       "      <td id=\"T_beb6c_row5_col3\" class=\"data row5 col3\" >0.962708</td>\n",
       "    </tr>\n",
       "    <tr>\n",
       "      <th id=\"T_beb6c_level0_row6\" class=\"row_heading level0 row6\" >6</th>\n",
       "      <td id=\"T_beb6c_row6_col0\" class=\"data row6 col0\" >0.315904</td>\n",
       "      <td id=\"T_beb6c_row6_col1\" class=\"data row6 col1\" >0.720230</td>\n",
       "      <td id=\"T_beb6c_row6_col2\" class=\"data row6 col2\" >-1.216326</td>\n",
       "      <td id=\"T_beb6c_row6_col3\" class=\"data row6 col3\" >-1.001207</td>\n",
       "    </tr>\n",
       "    <tr>\n",
       "      <th id=\"T_beb6c_level0_row7\" class=\"row_heading level0 row7\" >7</th>\n",
       "      <td id=\"T_beb6c_row7_col0\" class=\"data row7 col0\" >2.117034</td>\n",
       "      <td id=\"T_beb6c_row7_col1\" class=\"data row7 col1\" >-0.874235</td>\n",
       "      <td id=\"T_beb6c_row7_col2\" class=\"data row7 col2\" >-0.960742</td>\n",
       "      <td id=\"T_beb6c_row7_col3\" class=\"data row7 col3\" >0.997393</td>\n",
       "    </tr>\n",
       "    <tr>\n",
       "      <th id=\"T_beb6c_level0_row8\" class=\"row_heading level0 row8\" >8</th>\n",
       "      <td id=\"T_beb6c_row8_col0\" class=\"data row8 col0\" >1.382518</td>\n",
       "      <td id=\"T_beb6c_row8_col1\" class=\"data row8 col1\" >2.617218</td>\n",
       "      <td id=\"T_beb6c_row8_col2\" class=\"data row8 col2\" >-0.484142</td>\n",
       "      <td id=\"T_beb6c_row8_col3\" class=\"data row8 col3\" >0.666325</td>\n",
       "    </tr>\n",
       "    <tr>\n",
       "      <th id=\"T_beb6c_level0_row9\" class=\"row_heading level0 row9\" >9</th>\n",
       "      <td id=\"T_beb6c_row9_col0\" class=\"data row9 col0\" >-0.248559</td>\n",
       "      <td id=\"T_beb6c_row9_col1\" class=\"data row9 col1\" >-1.722610</td>\n",
       "      <td id=\"T_beb6c_row9_col2\" class=\"data row9 col2\" >1.244646</td>\n",
       "      <td id=\"T_beb6c_row9_col3\" class=\"data row9 col3\" >0.282023</td>\n",
       "    </tr>\n",
       "  </tbody>\n",
       "</table>\n"
      ],
      "text/plain": [
       "<pandas.io.formats.style.Styler at 0x1e43ebb9150>"
      ]
     },
     "execution_count": 5,
     "metadata": {},
     "output_type": "execute_result"
    }
   ],
   "source": [
    "# ES13\n",
    "# Write a Pandas program to highlight dataframe’s specific columns with different colors.\n",
    "\n",
    "def highlight_cols(data):\n",
    "    df = data.copy()\n",
    "    df.loc[:,:] = 'background-color: '\n",
    "    #overwrite values grey color\n",
    "    df['C'] = 'background-color: blue'\n",
    "    df['B'] = 'background-color: grey'\n",
    "    #return color df\n",
    "    return df    \n",
    "\n",
    "df.style.apply(highlight_cols, axis=None)"
   ]
  },
  {
   "cell_type": "code",
   "execution_count": 6,
   "metadata": {},
   "outputs": [
    {
     "data": {
      "text/plain": [
       "<Axes: >"
      ]
     },
     "execution_count": 6,
     "metadata": {},
     "output_type": "execute_result"
    },
    {
     "data": {
      "image/png": "[encoded data removed]",
      "text/plain": [
       "<Figure size 640x480 with 2 Axes>"
      ]
     },
     "metadata": {},
     "output_type": "display_data"
    }
   ],
   "source": [
    "# ES14\n",
    "# Write a Pandas program to display the dataframe in Heatmap style.\n",
    "sns.heatmap(data=df, annot=True)"
   ]
  }
 ],
 "metadata": {
  "kernelspec": {
   "display_name": "Python 3",
   "language": "python",
   "name": "python3"
  },
  "language_info": {
   "codemirror_mode": {
    "name": "ipython",
    "version": 3
   },
   "file_extension": ".py",
   "mimetype": "text/x-python",
   "name": "python",
   "nbconvert_exporter": "python",
   "pygments_lexer": "ipython3",
   "version": "3.11.0"
  },
  "orig_nbformat": 4
 },
 "nbformat": 4,
 "nbformat_minor": 2
}
